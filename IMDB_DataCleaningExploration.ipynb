{
 "cells": [
  {
   "cell_type": "markdown",
   "metadata": {},
   "source": [
    "# IMDB Data Cleaning and Exploration"
   ]
  },
  {
   "cell_type": "markdown",
   "metadata": {},
   "source": [
    "In this project, we will be analyze a subset of the imdb movies database which consists of the top 10k movies. We will utilize the data file `imdb_top_10000.txt` \n",
    "\n",
    "First step: Load the file using pandas. The columns represent `['imdbID', 'title', 'year', 'score', 'votes', 'runtime', 'genres']`. "
   ]
  },
  {
   "cell_type": "code",
   "execution_count": 2,
   "metadata": {},
   "outputs": [],
   "source": [
    "#solve here\n",
    "import pandas as pd\n",
    "\n",
    "#load the txt file, found that it is tab-separated; rename columns\n",
    "data = pd.read_csv('imdb_top_10000.txt', sep=\"\\t\", header=None)\n",
    "data.columns = ['imdbID', 'title', 'year', 'score', 'votes', 'runtime', 'genres']\n",
    "#data"
   ]
  },
  {
   "cell_type": "code",
   "execution_count": 3,
   "metadata": {},
   "outputs": [
    {
     "data": {
      "text/html": [
       "<div>\n",
       "<style scoped>\n",
       "    .dataframe tbody tr th:only-of-type {\n",
       "        vertical-align: middle;\n",
       "    }\n",
       "\n",
       "    .dataframe tbody tr th {\n",
       "        vertical-align: top;\n",
       "    }\n",
       "\n",
       "    .dataframe thead th {\n",
       "        text-align: right;\n",
       "    }\n",
       "</style>\n",
       "<table border=\"1\" class=\"dataframe\">\n",
       "  <thead>\n",
       "    <tr style=\"text-align: right;\">\n",
       "      <th></th>\n",
       "      <th>imdbID</th>\n",
       "      <th>title</th>\n",
       "      <th>year</th>\n",
       "      <th>score</th>\n",
       "      <th>votes</th>\n",
       "      <th>runtime</th>\n",
       "      <th>genres</th>\n",
       "    </tr>\n",
       "  </thead>\n",
       "  <tbody>\n",
       "    <tr>\n",
       "      <th>0</th>\n",
       "      <td>tt0111161</td>\n",
       "      <td>The Shawshank Redemption (1994)</td>\n",
       "      <td>1994</td>\n",
       "      <td>9.2</td>\n",
       "      <td>619479</td>\n",
       "      <td>142 mins.</td>\n",
       "      <td>Crime|Drama</td>\n",
       "    </tr>\n",
       "    <tr>\n",
       "      <th>1</th>\n",
       "      <td>tt0110912</td>\n",
       "      <td>Pulp Fiction (1994)</td>\n",
       "      <td>1994</td>\n",
       "      <td>9.0</td>\n",
       "      <td>490065</td>\n",
       "      <td>154 mins.</td>\n",
       "      <td>Crime|Thriller</td>\n",
       "    </tr>\n",
       "    <tr>\n",
       "      <th>2</th>\n",
       "      <td>tt0137523</td>\n",
       "      <td>Fight Club (1999)</td>\n",
       "      <td>1999</td>\n",
       "      <td>8.8</td>\n",
       "      <td>458173</td>\n",
       "      <td>139 mins.</td>\n",
       "      <td>Drama|Mystery|Thriller</td>\n",
       "    </tr>\n",
       "    <tr>\n",
       "      <th>3</th>\n",
       "      <td>tt0133093</td>\n",
       "      <td>The Matrix (1999)</td>\n",
       "      <td>1999</td>\n",
       "      <td>8.7</td>\n",
       "      <td>448114</td>\n",
       "      <td>136 mins.</td>\n",
       "      <td>Action|Adventure|Sci-Fi</td>\n",
       "    </tr>\n",
       "    <tr>\n",
       "      <th>4</th>\n",
       "      <td>tt1375666</td>\n",
       "      <td>Inception (2010)</td>\n",
       "      <td>2010</td>\n",
       "      <td>8.9</td>\n",
       "      <td>385149</td>\n",
       "      <td>148 mins.</td>\n",
       "      <td>Action|Adventure|Sci-Fi|Thriller</td>\n",
       "    </tr>\n",
       "    <tr>\n",
       "      <th>5</th>\n",
       "      <td>tt0109830</td>\n",
       "      <td>Forrest Gump (1994)</td>\n",
       "      <td>1994</td>\n",
       "      <td>8.7</td>\n",
       "      <td>368994</td>\n",
       "      <td>142 mins.</td>\n",
       "      <td>Comedy|Drama|Romance</td>\n",
       "    </tr>\n",
       "    <tr>\n",
       "      <th>6</th>\n",
       "      <td>tt0169547</td>\n",
       "      <td>American Beauty (1999)</td>\n",
       "      <td>1999</td>\n",
       "      <td>8.6</td>\n",
       "      <td>338332</td>\n",
       "      <td>122 mins.</td>\n",
       "      <td>Drama</td>\n",
       "    </tr>\n",
       "  </tbody>\n",
       "</table>\n",
       "</div>"
      ],
      "text/plain": [
       "      imdbID                            title  year  score   votes    runtime  \\\n",
       "0  tt0111161  The Shawshank Redemption (1994)  1994    9.2  619479  142 mins.   \n",
       "1  tt0110912              Pulp Fiction (1994)  1994    9.0  490065  154 mins.   \n",
       "2  tt0137523                Fight Club (1999)  1999    8.8  458173  139 mins.   \n",
       "3  tt0133093                The Matrix (1999)  1999    8.7  448114  136 mins.   \n",
       "4  tt1375666                 Inception (2010)  2010    8.9  385149  148 mins.   \n",
       "5  tt0109830              Forrest Gump (1994)  1994    8.7  368994  142 mins.   \n",
       "6  tt0169547           American Beauty (1999)  1999    8.6  338332  122 mins.   \n",
       "\n",
       "                             genres  \n",
       "0                       Crime|Drama  \n",
       "1                    Crime|Thriller  \n",
       "2            Drama|Mystery|Thriller  \n",
       "3           Action|Adventure|Sci-Fi  \n",
       "4  Action|Adventure|Sci-Fi|Thriller  \n",
       "5              Comedy|Drama|Romance  \n",
       "6                             Drama  "
      ]
     },
     "execution_count": 3,
     "metadata": {},
     "output_type": "execute_result"
    }
   ],
   "source": [
    "# display the top 7 elements of the table\n",
    "data.head(7)"
   ]
  },
  {
   "cell_type": "code",
   "execution_count": 4,
   "metadata": {},
   "outputs": [
    {
     "data": {
      "text/html": [
       "<div>\n",
       "<style scoped>\n",
       "    .dataframe tbody tr th:only-of-type {\n",
       "        vertical-align: middle;\n",
       "    }\n",
       "\n",
       "    .dataframe tbody tr th {\n",
       "        vertical-align: top;\n",
       "    }\n",
       "\n",
       "    .dataframe thead th {\n",
       "        text-align: right;\n",
       "    }\n",
       "</style>\n",
       "<table border=\"1\" class=\"dataframe\">\n",
       "  <thead>\n",
       "    <tr style=\"text-align: right;\">\n",
       "      <th></th>\n",
       "      <th>imdbID</th>\n",
       "      <th>title</th>\n",
       "      <th>year</th>\n",
       "      <th>score</th>\n",
       "      <th>votes</th>\n",
       "      <th>runtime</th>\n",
       "      <th>genres</th>\n",
       "    </tr>\n",
       "  </thead>\n",
       "  <tbody>\n",
       "    <tr>\n",
       "      <th>9993</th>\n",
       "      <td>tt0218581</td>\n",
       "      <td>Scarlet Diva (2000)</td>\n",
       "      <td>2000</td>\n",
       "      <td>5.2</td>\n",
       "      <td>1358</td>\n",
       "      <td>91 mins.</td>\n",
       "      <td>Drama</td>\n",
       "    </tr>\n",
       "    <tr>\n",
       "      <th>9994</th>\n",
       "      <td>tt0118635</td>\n",
       "      <td>Aprile (1998)</td>\n",
       "      <td>1998</td>\n",
       "      <td>6.7</td>\n",
       "      <td>1358</td>\n",
       "      <td>78 mins.</td>\n",
       "      <td>Comedy</td>\n",
       "    </tr>\n",
       "    <tr>\n",
       "      <th>9995</th>\n",
       "      <td>tt0807721</td>\n",
       "      <td>Meduzot (2007)</td>\n",
       "      <td>2007</td>\n",
       "      <td>7.0</td>\n",
       "      <td>1357</td>\n",
       "      <td>78 mins.</td>\n",
       "      <td>Drama</td>\n",
       "    </tr>\n",
       "    <tr>\n",
       "      <th>9996</th>\n",
       "      <td>tt0339642</td>\n",
       "      <td>Daltry Calhoun (2005)</td>\n",
       "      <td>2005</td>\n",
       "      <td>5.2</td>\n",
       "      <td>1357</td>\n",
       "      <td>100 mins.</td>\n",
       "      <td>Comedy|Drama|Music|Romance</td>\n",
       "    </tr>\n",
       "    <tr>\n",
       "      <th>9997</th>\n",
       "      <td>tt0060880</td>\n",
       "      <td>The Quiller Memorandum (1966)</td>\n",
       "      <td>1966</td>\n",
       "      <td>6.5</td>\n",
       "      <td>1356</td>\n",
       "      <td>104 mins.</td>\n",
       "      <td>Drama|Mystery|Thriller</td>\n",
       "    </tr>\n",
       "    <tr>\n",
       "      <th>9998</th>\n",
       "      <td>tt0152836</td>\n",
       "      <td>Taal (1999)</td>\n",
       "      <td>1999</td>\n",
       "      <td>6.5</td>\n",
       "      <td>1356</td>\n",
       "      <td>179 mins.</td>\n",
       "      <td>Musical|Romance</td>\n",
       "    </tr>\n",
       "    <tr>\n",
       "      <th>9999</th>\n",
       "      <td>tt0279977</td>\n",
       "      <td>The Navigators (2001)</td>\n",
       "      <td>2001</td>\n",
       "      <td>6.9</td>\n",
       "      <td>1356</td>\n",
       "      <td>96 mins.</td>\n",
       "      <td>Comedy|Drama</td>\n",
       "    </tr>\n",
       "  </tbody>\n",
       "</table>\n",
       "</div>"
      ],
      "text/plain": [
       "         imdbID                          title  year  score  votes    runtime  \\\n",
       "9993  tt0218581            Scarlet Diva (2000)  2000    5.2   1358   91 mins.   \n",
       "9994  tt0118635                  Aprile (1998)  1998    6.7   1358   78 mins.   \n",
       "9995  tt0807721                 Meduzot (2007)  2007    7.0   1357   78 mins.   \n",
       "9996  tt0339642          Daltry Calhoun (2005)  2005    5.2   1357  100 mins.   \n",
       "9997  tt0060880  The Quiller Memorandum (1966)  1966    6.5   1356  104 mins.   \n",
       "9998  tt0152836                    Taal (1999)  1999    6.5   1356  179 mins.   \n",
       "9999  tt0279977          The Navigators (2001)  2001    6.9   1356   96 mins.   \n",
       "\n",
       "                          genres  \n",
       "9993                       Drama  \n",
       "9994                      Comedy  \n",
       "9995                       Drama  \n",
       "9996  Comedy|Drama|Music|Romance  \n",
       "9997      Drama|Mystery|Thriller  \n",
       "9998             Musical|Romance  \n",
       "9999                Comedy|Drama  "
      ]
     },
     "execution_count": 4,
     "metadata": {},
     "output_type": "execute_result"
    }
   ],
   "source": [
    "#display the bottom 7 elements of the table\n",
    "data.tail(7)"
   ]
  },
  {
   "cell_type": "markdown",
   "metadata": {},
   "source": [
    "## Finding null values and removing the rows that contains the nulls"
   ]
  },
  {
   "cell_type": "code",
   "execution_count": 5,
   "metadata": {},
   "outputs": [
    {
     "data": {
      "text/plain": [
       "imdbID            tt0990404\n",
       "title      Chop Shop (2007)\n",
       "year                   2007\n",
       "score                   7.2\n",
       "votes                  2104\n",
       "runtime            84 mins.\n",
       "genres                  NaN\n",
       "Name: 7917, dtype: object"
      ]
     },
     "execution_count": 5,
     "metadata": {},
     "output_type": "execute_result"
    }
   ],
   "source": [
    "# Solve here\n",
    "import numpy as np\n",
    "\n",
    "data.isnull().sum() # there is 1 NaN in 'genre'\n",
    "np.where(data.isnull()) # location of the Nan: [7917, 6]\n",
    "data.loc[7917, :] # display the info in the row of the Nan value"
   ]
  },
  {
   "cell_type": "markdown",
   "metadata": {},
   "source": [
    "######################\n",
    "\n",
    "The column called runtime contains the duration of the movie with the word mins next to it (such as 142 mins). We need to have the duration as just numbers without the word mins so we can do some statistical analysis on the movies durations. "
   ]
  },
  {
   "cell_type": "code",
   "execution_count": 6,
   "metadata": {},
   "outputs": [
    {
     "data": {
      "text/plain": [
       "0       142\n",
       "1       154\n",
       "2       139\n",
       "3       136\n",
       "4       148\n",
       "       ... \n",
       "9995     78\n",
       "9996    100\n",
       "9997    104\n",
       "9998    179\n",
       "9999     96\n",
       "Name: runtime, Length: 10000, dtype: object"
      ]
     },
     "execution_count": 6,
     "metadata": {},
     "output_type": "execute_result"
    }
   ],
   "source": [
    "# Replace the 'runtime' column with the # value only (aka removing 'mins')\n",
    "# without adding a new column for duration.\n",
    "\n",
    "data[\"runtime\"] = data[\"runtime\"].str.split(\" \", n = 1, expand = True) \n",
    "# separate at whitespace, max 1 split, expand = True makes it a dataframe return \n",
    "\n",
    "data[\"runtime\"] #print (optional)"
   ]
  },
  {
   "cell_type": "markdown",
   "metadata": {},
   "source": [
    "#########################\n",
    "\n",
    "What is min, max, average and variance of the durations and which movies have the longest durations?"
   ]
  },
  {
   "cell_type": "code",
   "execution_count": 7,
   "metadata": {},
   "outputs": [],
   "source": [
    "# but first...my data was being weird so i wanted to make sure it was a Data Frame. \n",
    "data = pd.DataFrame(data)\n",
    "\n",
    "data['runtime'] = data['runtime'].astype(int)\n",
    "# was sorting and reading the data incorrectly - figured out because the column was still strings\n",
    "# gave me a max of 99 so i knew something was off!"
   ]
  },
  {
   "cell_type": "code",
   "execution_count": 8,
   "metadata": {},
   "outputs": [
    {
     "name": "stdout",
     "output_type": "stream",
     "text": [
      "The minimum runtime is  0  minutes.\n",
      "The maximum runtime is  450  minutes.\n",
      "The variance of the runtimes is 709.0875621962832\n",
      "The movie with the longest duration is  Satantango (1994) .\n"
     ]
    }
   ],
   "source": [
    "# minimum\n",
    "minimum = data['runtime'].min()\n",
    "print(\"The minimum runtime is \", minimum, \" minutes.\")\n",
    "\n",
    "#maximum\n",
    "maximum= data['runtime'].max()\n",
    "print(\"The maximum runtime is \", maximum, \" minutes.\")\n",
    "\n",
    "#variance\n",
    "print(\"The variance of the runtimes is\", data.loc[:,\"runtime\"].var())\n",
    "\n",
    "# movies with longest durations\n",
    "np.where(data['runtime']==maximum) # returns 6908\n",
    "longest_movie = data.loc[6908, :]\n",
    "print(\"The movie with the longest duration is \", longest_movie[\"title\"], \".\")"
   ]
  },
  {
   "cell_type": "markdown",
   "metadata": {},
   "source": [
    "##########################\n",
    "\n",
    "What are the years provided in the given file?"
   ]
  },
  {
   "cell_type": "code",
   "execution_count": 11,
   "metadata": {},
   "outputs": [
    {
     "name": "stdout",
     "output_type": "stream",
     "text": [
      "Please see the array below for the years present in the given file.\n"
     ]
    },
    {
     "data": {
      "text/plain": [
       "array([1950, 1951, 1952, 1953, 1954, 1955, 1956, 1957, 1958, 1959, 1960,\n",
       "       1961, 1962, 1963, 1964, 1965, 1966, 1967, 1968, 1969, 1970, 1971,\n",
       "       1972, 1973, 1974, 1975, 1976, 1977, 1978, 1979, 1980, 1981, 1982,\n",
       "       1983, 1984, 1985, 1986, 1987, 1988, 1989, 1990, 1991, 1992, 1993,\n",
       "       1994, 1995, 1996, 1997, 1998, 1999, 2000, 2001, 2002, 2003, 2004,\n",
       "       2005, 2006, 2007, 2008, 2009, 2010, 2011], dtype=int64)"
      ]
     },
     "execution_count": 11,
     "metadata": {},
     "output_type": "execute_result"
    }
   ],
   "source": [
    "# Will use unique and sort the outcome\n",
    "\n",
    "#need an array to use unique\n",
    "a = np.array(data['year'])\n",
    "a2 = np.unique(a)\n",
    "\n",
    "print(\"Please see the array below for the years present in the given file.\")\n",
    "a2"
   ]
  },
  {
   "cell_type": "markdown",
   "metadata": {},
   "source": [
    "############################\n",
    "\n",
    "Are there any duplicates in the data?"
   ]
  },
  {
   "cell_type": "code",
   "execution_count": 12,
   "metadata": {},
   "outputs": [
    {
     "name": "stdout",
     "output_type": "stream",
     "text": [
      "There are no duplicates in the data.\n"
     ]
    }
   ],
   "source": [
    "np.where(data.duplicated() == True)\n",
    "\n",
    "# also used np.where(data.duplicated() == False) to double check that these would work together\n",
    "\n",
    "print(\"There are no duplicates in the data.\")"
   ]
  },
  {
   "cell_type": "markdown",
   "metadata": {},
   "source": [
    "###############################\n",
    "\n",
    "Calculate the number of movies produced each year then plot number of movies vs years. What is the year that has the highest movies?\n",
    "\n",
    "Calculate this with the code and verify it with the graph."
   ]
  },
  {
   "cell_type": "code",
   "execution_count": 13,
   "metadata": {},
   "outputs": [
    {
     "data": {
      "text/plain": [
       "2006    502\n",
       "2007    496\n",
       "2008    481\n",
       "2005    439\n",
       "2004    430\n",
       "Name: year, dtype: int64"
      ]
     },
     "execution_count": 13,
     "metadata": {},
     "output_type": "execute_result"
    }
   ],
   "source": [
    "year_counts = data.year.value_counts()\n",
    "# year_counts # print (optional)\n",
    "\n",
    "# i also summed these to verify they add to 10000 movies.\n",
    "# data.year.value_counts().sum()\n",
    "\n",
    "year_counts.head()\n",
    "\n",
    "# According to our code (result below), 2006 has the highest movies."
   ]
  },
  {
   "cell_type": "code",
   "execution_count": 14,
   "metadata": {},
   "outputs": [
    {
     "data": {
      "image/png": "[encoded data removed]",
      "text/plain": [
       "<Figure size 432x288 with 1 Axes>"
      ]
     },
     "metadata": {
      "needs_background": "light"
     },
     "output_type": "display_data"
    }
   ],
   "source": [
    "import matplotlib.pyplot as plt\n",
    "%matplotlib inline\n",
    "\n",
    "plt.scatter(year_counts.index, year_counts.values)\n",
    "# a scatter plot is the only type of plot that wasn't severely messed up when I tried it\n",
    "plt.yticks(np.arange(0, 510, 50))\n",
    "plt.xticks(np.arange(1950, 2011, 5))\n",
    "plt.grid()\n",
    "\n",
    "\n",
    "# The graph agrees with the code in that 2006 has the highest number of movies produced.\n",
    "\n",
    "# used the internet to find the syntax of adjusting the x and y ticks: min, max, step\n",
    "# https://stackoverflow.com/questions/27456185/scaling-axis-for-a-scatter-plot-in-matlibplot-in-python"
   ]
  }
 ],
 "metadata": {
  "kernelspec": {
   "display_name": "Python 3",
   "language": "python",
   "name": "python3"
  },
  "language_info": {
   "codemirror_mode": {
    "name": "ipython",
    "version": 3
   },
   "file_extension": ".py",
   "mimetype": "text/x-python",
   "name": "python",
   "nbconvert_exporter": "python",
   "pygments_lexer": "ipython3",
   "version": "3.7.10"
  }
 },
 "nbformat": 4,
 "nbformat_minor": 4
}
